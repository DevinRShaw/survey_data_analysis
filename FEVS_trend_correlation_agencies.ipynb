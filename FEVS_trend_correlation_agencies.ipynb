{
  "nbformat": 4,
  "nbformat_minor": 0,
  "metadata": {
    "colab": {
      "provenance": [],
      "collapsed_sections": [
        "Roj9Qz-CfNdL"
      ],
      "toc_visible": true
    },
    "kernelspec": {
      "name": "python3",
      "display_name": "Python 3"
    },
    "language_info": {
      "name": "python"
    }
  },
  "cells": [
    {
      "cell_type": "code",
      "execution_count": 92,
      "metadata": {
        "id": "Qqr_zQanlRsG"
      },
      "outputs": [],
      "source": [
        "import pandas as pd\n",
        "import matplotlib.pyplot as plt\n",
        "from scipy import stats\n",
        "import seaborn as sns\n",
        "import numpy as np"
      ]
    },
    {
      "cell_type": "code",
      "source": [
        "df = pd.read_csv('/content/full_FEVS_prototype.csv')\n",
        "df.head()"
      ],
      "metadata": {
        "id": "kyXv4uhnlwSb"
      },
      "execution_count": null,
      "outputs": []
    },
    {
      "cell_type": "markdown",
      "source": [
        "# Functions\n"
      ],
      "metadata": {
        "id": "cX0l2XGIvw3e"
      }
    },
    {
      "cell_type": "code",
      "source": [
        "reporting_levels = ['Reporting Level_2015', 'Reporting Level_2016', 'Reporting Level_2017', 'Reporting Level_2018', 'Reporting Level_2019', 'Reporting Level_2020', 'Reporting Level_2022']\n",
        "\n",
        "response_counts = ['Response Count_2015', 'Response Count_2016', 'Response Count_2017', 'Response Count_2018', 'Response Count_2019', 'Response Count_2020', 'Response Count_2022']\n",
        "\n",
        "employee_engagement_overall = ['Employee Engagement: Overall_2015', 'Employee Engagement: Overall_2016', 'Employee Engagement: Overall_2017', 'Employee Engagement: Overall_2018', 'Employee Engagement: Overall_2019', 'Employee Engagement: Overall_2020', 'Employee Engagement: Overall_2022']\n",
        "\n",
        "employee_engagement_leaders_lead = ['Employee Engagement: Leaders Lead_2015', 'Employee Engagement: Leaders Lead_2016', 'Employee Engagement: Leaders Lead_2017', 'Employee Engagement: Leaders Lead_2018', 'Employee Engagement: Leaders Lead_2019', 'Employee Engagement: Leaders Lead_2020', 'Employee Engagement: Leaders Lead_2022']\n",
        "\n",
        "employee_engagement_supervisors = ['Employee Engagement: Supervisors_2015', 'Employee Engagement: Supervisors_2016', 'Employee Engagement: Supervisors_2017', 'Employee Engagement: Supervisors_2018', 'Employee Engagement: Supervisors_2019', 'Employee Engagement: Supervisors_2020', 'Employee Engagement: Supervisors_2022']\n",
        "\n",
        "employee_engagement_intrinsic = ['Employee Engagement: Intrinsic Work Experience_2015', 'Employee Engagement: Intrinsic Work Experience_2016', 'Employee Engagement: Intrinsic Work Experience_2017', 'Employee Engagement: Intrinsic Work Experience_2018', 'Employee Engagement: Intrinsic Work Experience_2019', 'Employee Engagement: Intrinsic Work Experience_2020', 'Employee Engagement: Intrinsic Work Experience_2022']\n",
        "\n",
        "new_iq_overall = ['New IQ: Overall_2015', 'New IQ: Overall_2016', 'New IQ: Overall_2017', 'New IQ: Overall_2018', 'New IQ: Overall_2019']\n",
        "\n",
        "new_iq_fair = ['New IQ: Fair_2015', 'New IQ: Fair_2016', 'New IQ: Fair_2017', 'New IQ: Fair_2018', 'New IQ: Fair_2019']\n",
        "\n",
        "new_iq_open = ['New IQ: Open_2015', 'New IQ: Open_2016', 'New IQ: Open_2017', 'New IQ: Open_2018', 'New IQ: Open_2019']\n",
        "\n",
        "new_iq_cooperative = ['New IQ: Cooperative_2015', 'New IQ: Cooperative_2016', 'New IQ: Cooperative_2017', 'New IQ: Cooperative_2018', 'New IQ: Cooperative_2019']\n",
        "\n",
        "new_iq_supportive = ['New IQ: Supportive_2015', 'New IQ: Supportive_2016', 'New IQ: Supportive_2017', 'New IQ: Supportive_2018', 'New IQ: Supportive_2019']\n",
        "\n",
        "new_iq_empowered = ['New IQ: Empowered_2015', 'New IQ: Empowered_2016', 'New IQ: Empowered_2017', 'New IQ: Empowering_2018', 'New IQ: Empowering_2019']\n",
        "\n",
        "global_satisfaction = ['Global Satisfaction_2015', 'Global Satisfaction_2016', 'Global Satisfaction_2017', 'Global Satisfaction_2018', 'Global Satisfaction_2019', 'Global Satisfaction_2020', 'Global Satisfaction_2022']\n",
        "\n",
        "# 2D array for use in analysis functions\n",
        "variables_list = [employee_engagement_leaders_lead, employee_engagement_supervisors, employee_engagement_intrinsic, new_iq_overall, new_iq_fair, new_iq_open, new_iq_cooperative, new_iq_supportive, new_iq_empowered, global_satisfaction ]\n",
        "\n",
        "\n"
      ],
      "metadata": {
        "id": "QS6hjAzyrquo"
      },
      "execution_count": 94,
      "outputs": []
    },
    {
      "cell_type": "code",
      "source": [
        "\n",
        "#Helper function to turn the variable name into string for naming in column\n",
        "def var_name(variable):\n",
        "    # Get the globals() dictionary\n",
        "    global_vars = globals()\n",
        "\n",
        "    # Iterate over the items in globals()\n",
        "    for name, value in global_vars.items():\n",
        "        if value is variable:\n",
        "            return name\n",
        "\n",
        "\n",
        "#Takes a list of columns, creates a series of means and barplots them\n",
        "def barplot_select_column(df, selected_columns):\n",
        "    column_means = df[selected_columns].mean(axis=0)\n",
        "\n",
        "    # Create the bar plot\n",
        "    column_means.plot(kind='bar')\n",
        "\n",
        "    # Add labels and title\n",
        "    plt.ylabel(f'Mean {var_name(selected_columns)}')\n",
        "    plt.title(f'Mean {var_name(selected_columns)} Scores by Year')\n",
        "\n",
        "    # Display the plot\n",
        "    plt.show()\n",
        "\n",
        "\n",
        "\n",
        "#Takes a series and return True if meets standards of normality, used a filter in the Anova Test Function\n",
        "def test_normality(df):\n",
        "\n",
        "        # Perform Shapiro-Wilk test for normality\n",
        "        statistic, p_value = stats.shapiro(df)\n",
        "\n",
        "        # Check the significance level to interpret the results\n",
        "        alpha = 0.05\n",
        "        if p_value > alpha:\n",
        "           return True\n",
        "\n",
        "\n",
        "#Takes a list of columns, creates a new dataframe from them, then preforms ANOVAs on each year compared to the next and prints the results\n",
        "def anova_test(df, variables):\n",
        "  variable_df = df[variables]\n",
        "  #test the year of the variable\n",
        "  print(var_name(variables).upper() + '\\n')\n",
        "  for year in variables:\n",
        "\n",
        "    if (variables.index(year) != len(variables) - 1) and test_normality(variable_df[year]) and  test_normality(variable_df[variables[variables.index(year)+1]]):\n",
        "        f_statistic, p_value = stats.f_oneway(variable_df[year], variable_df[variables[variables.index(year)+1]])\n",
        "\n",
        "        #Print the results\n",
        "        print(year + ' against ' + variable_df[variables[variables.index(year)+1]].name)\n",
        "        print(\"F-statistic:\", f_statistic)\n",
        "        print(\"p-value:\", p_value)\n",
        "        print('\\n')\n",
        "        if p_value < 0.05:\n",
        "            print(\"The p-value is less than 0.05, indicating a significant difference between the groups.\")\n",
        "        else:\n",
        "            print(\"The p-value is greater than or equal to 0.05, indicating no significant difference between the groups.\")\n",
        "        print('\\n')\n",
        "\n",
        "\n",
        "        print('---------------------------------------------------------------')\n",
        "\n",
        "\n",
        "\n",
        "#Takes dataframe as input and creates heatmaps of variables for each year\n",
        "def heatmap_years(df):\n",
        "    years = ['2015', '2016', '2017', '2018', '2019', '2020', '2022']\n",
        "    year_dfs = []\n",
        "\n",
        "    for year in years:\n",
        "        year_df = pd.DataFrame()  # Create a DataFrame for the column\n",
        "        for column in df.columns:\n",
        "            if year in column and (df[column].dtype != 'object'):\n",
        "                year_df.insert(loc=len(year_df.columns), column=column, value=df[column])\n",
        "        year_dfs.append(year_df)  # Store the year and DataFrame tuple\n",
        "\n",
        "    # Create and display the heatmaps\n",
        "    for heatmap_df, year in zip(year_dfs, years):\n",
        "        # Compute the correlation matrix\n",
        "        corr_matrix = heatmap_df.corr()\n",
        "\n",
        "        mask = np.triu(np.ones_like(corr_matrix, dtype=bool))\n",
        "        # Create a heatmap\n",
        "        plt.figure(figsize=(10, 8))\n",
        "        sns.heatmap(corr_matrix, annot=True, cmap='coolwarm', linewidths=0.5, mask=mask)\n",
        "        plt.title(f'Variable Comparison Heatmap {year}')\n",
        "        plt.show()\n",
        "\n",
        "        #sort by correlation strength and show the list of strongest correlations\n",
        "        sorted_corr_matrix = corr_matrix.reindex(corr_matrix.abs().sum().sort_values(ascending=False).index, axis=0)\n",
        "        top_correlated_variables = sorted_corr_matrix.columns[:]\n",
        "        # Print the results\n",
        "        i = 1\n",
        "        print(f\"The sorted correlated variables are:\")\n",
        "        for variable in reversed(top_correlated_variables):\n",
        "          print(f'{i}. ' + variable)\n",
        "          i = i + 1\n",
        "\n",
        "\n",
        "#Takes a dataframe and for each agency, plots each key varibles for each year\n",
        "def agency_key_inspection(df):\n",
        "  #list for iteration\n",
        "  score_types = [employee_engagement_intrinsic, new_iq_empowered, global_satisfaction]\n",
        "\n",
        "  for agency in df['Agency & Subagency Name']:\n",
        "\n",
        "    # select row based on agency name\n",
        "    agency_row = df.loc[df['Agency & Subagency Name'] == agency]\n",
        "\n",
        "    for score_type in score_types:\n",
        "      # I want a dataframe that is the yearly scores for the agency for each score\n",
        "\n",
        "      #create a frame that is\n",
        "      scores = agency_row[score_type].squeeze()\n",
        "\n",
        "      # Create the bar plot\n",
        "      scores.plot(kind='bar')\n",
        "\n",
        "\n",
        "      # Add labels and title\n",
        "      plt.ylabel(f'{var_name(score_type)} Scores by Year')\n",
        "      plt.title(f'{agency}')\n",
        "\n",
        "      # Customize the appearance of the plot\n",
        "      plt.grid(axis='y', linestyle='--')  # Add gridlines for the y-axis\n",
        "      plt.show()\n",
        "\n",
        "    print('---------------------')\n",
        "  print('-------------------------------------------------------------')\n",
        "\n",
        "\n",
        "def key_score_plot(df):\n",
        "  #list for iteration\n",
        "  score_types = [employee_engagement_intrinsic, new_iq_empowered, global_satisfaction]\n",
        "  #list for tracking of change\n",
        "  change_list = []\n",
        "  for agency in df['Agency & Subagency Name']:\n",
        "\n",
        "    # select row based on agency name\n",
        "    agency_row = df.loc[df['Agency & Subagency Name'] == agency]\n",
        "\n",
        "    # I want a series that is the average of these three key scores for each year\n",
        "    key_df = {}\n",
        "\n",
        "    #loop for each year in the lists\n",
        "    for i in range(len(global_satisfaction)):\n",
        "\n",
        "      key = 0\n",
        "      #keeps track for if we have to pass a variale\n",
        "      count = 0\n",
        "\n",
        "\n",
        "      #loop for each variable type, access the next years score\n",
        "\n",
        "      for score in score_types:\n",
        "        try:\n",
        "          key = key + df.loc[df['Agency & Subagency Name'] == agency][score[i]]\n",
        "          count = count + 1\n",
        "        except:\n",
        "          continue\n",
        "\n",
        "\n",
        "      #create a column for the year\n",
        "      key_df[f'{score[i][-4:]}'] = key / count #year and value of key value\n",
        "\n",
        "\n",
        "\n",
        "    # Create the bar plot for the agency\n",
        "\n",
        "    key_df = pd.DataFrame.from_dict(key_df)\n",
        "    key_df = key_df.squeeze()\n",
        "\n",
        "    key_df.plot(kind='line')\n",
        "\n",
        "\n",
        "    # Add labels and title\n",
        "    plt.ylabel('Key Scores by Year')\n",
        "    plt.title(f'{agency}')\n",
        "\n",
        "    # Customize the appearance of the plot\n",
        "    plt.grid(axis='y', linestyle='--')  # Add gridlines for the y-axis\n",
        "    plt.show()\n",
        "\n",
        "    # Calculate the difference between the last and first values in the series\n",
        "    difference = key_df.iloc[-1] - key_df.iloc[-2]\n",
        "\n",
        "    # Print the difference\n",
        "    print(\"Difference from 2020 to 2022: \" + str(difference))\n",
        "    change_list.append((agency, difference))\n",
        "    print('---------------------')\n",
        "\n",
        "  # Sort the list of tuples by the second element (integer)\n",
        "  sorted_change_list = sorted(change_list, key=lambda x: x[1])\n",
        "  sorted_change_list = sorted(sorted_change_list , key=lambda x: x[1], reverse=True)\n",
        "  for value in sorted_change_list:\n",
        "    print(value)\n",
        "    print('\\n')\n",
        "\n",
        "\n",
        "\n",
        "\n",
        "\n",
        "\n",
        "\n",
        "\n",
        "  print('-------------------------------------------------------------')\n",
        "\n",
        ""
      ],
      "metadata": {
        "id": "A243QBBs7Ou3"
      },
      "execution_count": 125,
      "outputs": []
    },
    {
      "cell_type": "markdown",
      "source": [
        "# Visualizing Scores by Year"
      ],
      "metadata": {
        "id": "7oFUlBGH2BW-"
      }
    },
    {
      "cell_type": "markdown",
      "source": [
        "- There seems to be a shared trend of increasing scores that tapers off and possibly lowers after 2020\n",
        "- Scores may be positively correlated to eachother since they are increasing together\n"
      ],
      "metadata": {
        "id": "lAxbtaLa5eu-"
      }
    },
    {
      "cell_type": "code",
      "source": [
        "# iterates over each list of variables and preforms barplotting on the years for it\n",
        "for variable in variables_list:\n",
        "  barplot_select_column(df,variable)"
      ],
      "metadata": {
        "id": "h4aqPEzozhLF"
      },
      "execution_count": null,
      "outputs": []
    },
    {
      "cell_type": "markdown",
      "source": [
        "# Score Trends\n",
        "\n"
      ],
      "metadata": {
        "id": "QHd9enHG3uiO"
      }
    },
    {
      "cell_type": "code",
      "source": [
        "'''\n",
        "AVOVA Tests:\n",
        "\n",
        "Hypothesis\n",
        "- Null hypothesis (H₀): The average scores are the same across all years.\n",
        "- Alternative hypothesis (H₁): The average scores are different across at least two years.\n",
        "\n",
        "Data Organization\n",
        "- Each year is represented by a separate column in the dataset, with the variables for each year recorded in the respective columns.\n",
        "\n",
        "Assumption Checking\n",
        "- ANOVA assumes independence of observations, which is met by nature of survey data and normality of the data within each group, which is checked by the test_normality() function\n",
        "\n",
        "'''\n",
        "\n",
        "for variable in variables_list:\n",
        "  barplot_select_column(df,variable)\n",
        "  anova_test(df, variable)\n"
      ],
      "metadata": {
        "id": "fXIJbj45DLnP"
      },
      "execution_count": null,
      "outputs": []
    },
    {
      "cell_type": "markdown",
      "source": [
        "## Trend Insights\n",
        "- There is a trend in the data that shows a subtle increase in survey scores from 2015 to 2018, which then tapers off in some variables until 2020, where there is a general increase in scores. After this there is a decrease in 2022.\n",
        "\n",
        "- This is supported by ANOVAs preformed on each grouping of variables which indicates signifigant differences between years of increase/decrease and inidicates lack of signifigant differences in plateau years.\n",
        "\n",
        "- The cause of this trend could be attributed to many factors, which could be explored via analysis of policy across government, specifically NOAA agencies.\n",
        "\n",
        "- Policy or economic factors most likely influenced the trend of a rise in metrics.\n",
        "\n",
        "- A possible factor in the decrease of scores could be attributed to COVID and compared against policies that were affected to guide ways to increase scores.\n"
      ],
      "metadata": {
        "id": "GoySjRhxUoZN"
      }
    },
    {
      "cell_type": "markdown",
      "source": [
        "# Correlations of Scores"
      ],
      "metadata": {
        "id": "s2TYTKIOOXbn"
      }
    },
    {
      "cell_type": "markdown",
      "source": [
        "Heatmaps visualize the correlation between variables. Darker colors represent stronger positive or negative correlations, while lighter colors indicate weaker or no correlations.\n",
        "\n",
        "There are strong correlations between related variables and very weak correlations between response counts to the rest of the data, which indicates this is coherent data that makes sense on an intuitive level.\n",
        "\n",
        "- For each year a heatmap has been created to show the strength of the correlations between variables\n",
        "- Each heatmap also features a list the variables sorted in order of overall correlation to the other variables of the dataset, which is an indicator of their importance in the dataset"
      ],
      "metadata": {
        "id": "vu-ftUgrxZCQ"
      }
    },
    {
      "cell_type": "code",
      "source": [
        "heatmap_years(df)"
      ],
      "metadata": {
        "id": "lxPGR3gXOnSG"
      },
      "execution_count": null,
      "outputs": []
    },
    {
      "cell_type": "markdown",
      "source": [
        "## Correlation Insights\n",
        "- Employee Engagement: Intrinsic Work Experience and New IQ: Empowered were  high in importance compared to other similar metrics, shown by their strong positive correlation to the other variables. This is most likely due to their intrinsic meanings.\n",
        "\n",
        "### Employee Engagement: Intrinsic Work Experience\n",
        "\n",
        "Employee Engagement: Intrinsic Work Experience reflects the level of intrinsic motivation and satisfaction employees derive from their work.\n",
        "\n",
        "- **Significance**: Intrinsic Work Experience plays a crucial role in shaping employee engagement levels and job satisfaction.\n",
        "- **Impact**: When employees find their work meaningful, fulfilling, and aligned with their values, it positively influences their overall engagement, productivity, and job performance.\n",
        "- **Strategies**: Organizations can enhance Intrinsic Work Experience by providing challenging and meaningful work assignments, promoting autonomy and decision-making authority, recognizing and leveraging employees' strengths, and offering opportunities for personal and professional growth.\n",
        "\n",
        "### New IQ: Empowered\n",
        "\n",
        "New IQ: Empowered measures the level of empowerment individuals perceive within the organization.\n",
        "\n",
        "- **Importance**: Empowerment is a key aspect of fostering employee engagement and organizational success.\n",
        "- **Impact**: When individuals feel empowered, they are more likely to take initiative, make decisions, and contribute effectively to the organization's goals.\n",
        "- **Strategies**: Organizations can enhance empowerment by providing employees with autonomy, decision-making authority, clear communication channels, and opportunities for growth and development.\n",
        "\n",
        "### What can we take away from this?\n",
        "The importance of \"Employee Engagement: Intrinsic Work Experience\" and \"New IQ: Empowered\" variables in survey data signifies the importance of fostering a culture of personal fulfillment and empowerment among its employees.\n",
        "\n",
        "Employees who perceive a high level of intrinsic work experience, finding their work meaningful and aligned with their values, are more likely to be engaged and satisfied in their roles. This makes sense as NOAA's mission is environmental conservation and scientific research. Tapping into employees' passion for protecting our oceans and atmosphere will increase sentiment towards work and increase productivity.\n",
        "\n",
        "Additionally, empowering employees by providing resources, support, and autonomy allows them to make informed decisions and drive innovation within the organization. This empowerment fosters a culture of collaboration, problem-solving, and continuous improvement, enabling NOAA to address complex environmental challenges effectively.\n"
      ],
      "metadata": {
        "id": "Roj9Qz-CfNdL"
      }
    },
    {
      "cell_type": "markdown",
      "source": [],
      "metadata": {
        "id": "_kalBBT9GdS3"
      }
    },
    {
      "cell_type": "markdown",
      "source": [
        "# Agency Trends in Key Scores\n"
      ],
      "metadata": {
        "id": "97H7Iul7GjDV"
      }
    },
    {
      "cell_type": "markdown",
      "source": [
        "Agencies have visable difference in key score trends, which tells us that different agencies experienced varied scores across our timeframe and that not all agencies experienced a drop in scores."
      ],
      "metadata": {
        "id": "NoSzpQnVGu15"
      }
    },
    {
      "cell_type": "code",
      "source": [
        "agency_key_inspection(df)"
      ],
      "metadata": {
        "id": "LTn-JcjaLqQ3"
      },
      "execution_count": null,
      "outputs": []
    },
    {
      "cell_type": "markdown",
      "source": [
        "## Analyzing Mean Key Score Change by Office\n",
        "Scores dropped signifigantly from 2020 to 2022 across agencies. It was found that the variables correlated to other variables the most were Employee Engagement: Intrinsic Work Experience, New IQ: Empowered and Global Satisfaction. We can use these variables to find agencies who improved their scores during the downward trend.\n",
        "- The mean key score is a feature that combines an agencies (Global Satisfaction), (Employee Engagement: Intrinsic Work Experience) and (New IQ: Empowered) scores by taking their average.\n",
        "- Line plotting is used help to identify the agencies whose mean key score has increased in recent years.\n",
        "- Agencies are then sorted in order of increase in Key Score from 2020 and 2022."
      ],
      "metadata": {
        "id": "snIbvocLo0i3"
      }
    },
    {
      "cell_type": "code",
      "source": [
        "key_score_plot(df) #Create a list of changes in scores by agency for this"
      ],
      "metadata": {
        "id": "QboTjFlLd184"
      },
      "execution_count": null,
      "outputs": []
    },
    {
      "cell_type": "markdown",
      "source": [
        "### Mean Key Score Change Insights\n",
        "Based on the provided list of offices and their corresponding score changes from 2020 to 2022, here are the top 5 offices with the highest score changes:\n",
        "\n",
        "1. Office of Projects, Partnerships, and Analysis: 0.111287095\n",
        "2. Aviation Operations Center: 0.08117562999999994\n",
        "3. Office of Protected Resources: 0.021850029999999965\n",
        "4. National Center for Environmental Information: 0.011025404999999933\n",
        "5. Office of Sustainable Fisheries: 0.01047330000000013\n",
        "\n",
        "These offices experienced the most positive changes in satisfaction scores in 2022 compared to the previous year in 2020.\n"
      ],
      "metadata": {
        "id": "79y8vO3WvK7W"
      }
    }
  ]
}